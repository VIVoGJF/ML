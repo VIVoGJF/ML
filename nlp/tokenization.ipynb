{
 "cells": [
  {
   "cell_type": "code",
   "execution_count": 1,
   "id": "516253a5",
   "metadata": {},
   "outputs": [],
   "source": [
    "corpus = \"\"\"Rain tapped softly against the window as he stared out into the quiet street.\n",
    "A forgotten cup of coffee cooled beside him, untouched. Somewhere in the distance, a dog barked, breaking the stillness of the evening.\n",
    "\"\"\""
   ]
  },
  {
   "cell_type": "code",
   "execution_count": 2,
   "id": "f5585b7e",
   "metadata": {},
   "outputs": [
    {
     "name": "stdout",
     "output_type": "stream",
     "text": [
      "Rain tapped softly against the window as he stared out into the quiet street.\n",
      "A forgotten cup of coffee cooled beside him, untouched. Somewhere in the distance, a dog barked, breaking the stillness of the evening.\n",
      "\n"
     ]
    }
   ],
   "source": [
    "print(corpus)"
   ]
  },
  {
   "cell_type": "code",
   "execution_count": 7,
   "id": "d6f530c1",
   "metadata": {},
   "outputs": [
    {
     "data": {
      "text/plain": [
       "list"
      ]
     },
     "execution_count": 7,
     "metadata": {},
     "output_type": "execute_result"
    }
   ],
   "source": [
    "from nltk.tokenize import sent_tokenize\n",
    "\n",
    "doc = sent_tokenize(corpus)\n",
    "type(doc)"
   ]
  },
  {
   "cell_type": "code",
   "execution_count": 8,
   "id": "fcc4461e",
   "metadata": {},
   "outputs": [
    {
     "name": "stdout",
     "output_type": "stream",
     "text": [
      "Rain tapped softly against the window as he stared out into the quiet street.\n",
      "A forgotten cup of coffee cooled beside him, untouched.\n",
      "Somewhere in the distance, a dog barked, breaking the stillness of the evening.\n"
     ]
    }
   ],
   "source": [
    "for sent in doc:\n",
    "    print(sent)"
   ]
  },
  {
   "cell_type": "code",
   "execution_count": 9,
   "id": "16a2e54a",
   "metadata": {},
   "outputs": [
    {
     "data": {
      "text/plain": [
       "['Rain',\n",
       " 'tapped',\n",
       " 'softly',\n",
       " 'against',\n",
       " 'the',\n",
       " 'window',\n",
       " 'as',\n",
       " 'he',\n",
       " 'stared',\n",
       " 'out',\n",
       " 'into',\n",
       " 'the',\n",
       " 'quiet',\n",
       " 'street',\n",
       " '.',\n",
       " 'A',\n",
       " 'forgotten',\n",
       " 'cup',\n",
       " 'of',\n",
       " 'coffee',\n",
       " 'cooled',\n",
       " 'beside',\n",
       " 'him',\n",
       " ',',\n",
       " 'untouched',\n",
       " '.',\n",
       " 'Somewhere',\n",
       " 'in',\n",
       " 'the',\n",
       " 'distance',\n",
       " ',',\n",
       " 'a',\n",
       " 'dog',\n",
       " 'barked',\n",
       " ',',\n",
       " 'breaking',\n",
       " 'the',\n",
       " 'stillness',\n",
       " 'of',\n",
       " 'the',\n",
       " 'evening',\n",
       " '.']"
      ]
     },
     "execution_count": 9,
     "metadata": {},
     "output_type": "execute_result"
    }
   ],
   "source": [
    "from nltk.tokenize import word_tokenize\n",
    "word_tokenize(corpus)"
   ]
  },
  {
   "cell_type": "code",
   "execution_count": 10,
   "id": "449d629e",
   "metadata": {},
   "outputs": [
    {
     "name": "stdout",
     "output_type": "stream",
     "text": [
      "['Rain', 'tapped', 'softly', 'against', 'the', 'window', 'as', 'he', 'stared', 'out', 'into', 'the', 'quiet', 'street', '.']\n",
      "['A', 'forgotten', 'cup', 'of', 'coffee', 'cooled', 'beside', 'him', ',', 'untouched', '.']\n",
      "['Somewhere', 'in', 'the', 'distance', ',', 'a', 'dog', 'barked', ',', 'breaking', 'the', 'stillness', 'of', 'the', 'evening', '.']\n"
     ]
    }
   ],
   "source": [
    "for sent in doc:\n",
    "    print(word_tokenize(sent))"
   ]
  },
  {
   "cell_type": "code",
   "execution_count": 11,
   "id": "753d75ce",
   "metadata": {},
   "outputs": [
    {
     "data": {
      "text/plain": [
       "['Rain',\n",
       " 'tapped',\n",
       " 'softly',\n",
       " 'against',\n",
       " 'the',\n",
       " 'window',\n",
       " 'as',\n",
       " 'he',\n",
       " 'stared',\n",
       " 'out',\n",
       " 'into',\n",
       " 'the',\n",
       " 'quiet',\n",
       " 'street',\n",
       " '.',\n",
       " 'A',\n",
       " 'forgotten',\n",
       " 'cup',\n",
       " 'of',\n",
       " 'coffee',\n",
       " 'cooled',\n",
       " 'beside',\n",
       " 'him',\n",
       " ',',\n",
       " 'untouched',\n",
       " '.',\n",
       " 'Somewhere',\n",
       " 'in',\n",
       " 'the',\n",
       " 'distance',\n",
       " ',',\n",
       " 'a',\n",
       " 'dog',\n",
       " 'barked',\n",
       " ',',\n",
       " 'breaking',\n",
       " 'the',\n",
       " 'stillness',\n",
       " 'of',\n",
       " 'the',\n",
       " 'evening',\n",
       " '.']"
      ]
     },
     "execution_count": 11,
     "metadata": {},
     "output_type": "execute_result"
    }
   ],
   "source": [
    "from nltk.tokenize import wordpunct_tokenize\n",
    "wordpunct_tokenize(corpus)"
   ]
  },
  {
   "cell_type": "code",
   "execution_count": 12,
   "id": "e8107aaf",
   "metadata": {},
   "outputs": [
    {
     "data": {
      "text/plain": [
       "['Rain',\n",
       " 'tapped',\n",
       " 'softly',\n",
       " 'against',\n",
       " 'the',\n",
       " 'window',\n",
       " 'as',\n",
       " 'he',\n",
       " 'stared',\n",
       " 'out',\n",
       " 'into',\n",
       " 'the',\n",
       " 'quiet',\n",
       " 'street.',\n",
       " 'A',\n",
       " 'forgotten',\n",
       " 'cup',\n",
       " 'of',\n",
       " 'coffee',\n",
       " 'cooled',\n",
       " 'beside',\n",
       " 'him',\n",
       " ',',\n",
       " 'untouched.',\n",
       " 'Somewhere',\n",
       " 'in',\n",
       " 'the',\n",
       " 'distance',\n",
       " ',',\n",
       " 'a',\n",
       " 'dog',\n",
       " 'barked',\n",
       " ',',\n",
       " 'breaking',\n",
       " 'the',\n",
       " 'stillness',\n",
       " 'of',\n",
       " 'the',\n",
       " 'evening',\n",
       " '.']"
      ]
     },
     "execution_count": 12,
     "metadata": {},
     "output_type": "execute_result"
    }
   ],
   "source": [
    "from nltk.tokenize import TreebankWordTokenizer\n",
    "tok = TreebankWordTokenizer()\n",
    "tok.tokenize(corpus)"
   ]
  },
  {
   "cell_type": "code",
   "execution_count": null,
   "id": "319d21da",
   "metadata": {},
   "outputs": [],
   "source": []
  }
 ],
 "metadata": {
  "kernelspec": {
   "display_name": "Python 3",
   "language": "python",
   "name": "python3"
  },
  "language_info": {
   "codemirror_mode": {
    "name": "ipython",
    "version": 3
   },
   "file_extension": ".py",
   "mimetype": "text/x-python",
   "name": "python",
   "nbconvert_exporter": "python",
   "pygments_lexer": "ipython3",
   "version": "3.13.3"
  }
 },
 "nbformat": 4,
 "nbformat_minor": 5
}
