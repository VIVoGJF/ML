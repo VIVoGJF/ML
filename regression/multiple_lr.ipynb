{
 "cells": [
  {
   "cell_type": "markdown",
   "id": "ef7bdff7",
   "metadata": {},
   "source": [
    "## Multiple Lionear Regression"
   ]
  },
  {
   "cell_type": "code",
   "execution_count": 2,
   "id": "d8a4f8ae",
   "metadata": {},
   "outputs": [],
   "source": [
    "import pandas as pd\n",
    "import matplotlib.pyplot as plt\n",
    "import numpy as np\n",
    "%matplotlib inline"
   ]
  }
 ],
 "metadata": {
  "kernelspec": {
   "display_name": "Python 3",
   "language": "python",
   "name": "python3"
  },
  "language_info": {
   "codemirror_mode": {
    "name": "ipython",
    "version": 3
   },
   "file_extension": ".py",
   "mimetype": "text/x-python",
   "name": "python",
   "nbconvert_exporter": "python",
   "pygments_lexer": "ipython3",
   "version": "3.13.3"
  }
 },
 "nbformat": 4,
 "nbformat_minor": 5
}
